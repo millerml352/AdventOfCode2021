{
 "cells": [
  {
   "cell_type": "code",
   "execution_count": 36,
   "id": "a8356c85-0d55-4af0-807c-4dad3f89893a",
   "metadata": {},
   "outputs": [
    {
     "name": "stdout",
     "output_type": "stream",
     "text": [
      "Horizontal: 2033\n",
      "Depth: 768\n",
      "Product: 1561344\n"
     ]
    }
   ],
   "source": [
    "# Day 2, Problem 1\n",
    "file = open('day2input.txt', 'r')\n",
    "content = file.read()\n",
    "movements = str(content).strip().split('\\n')\n",
    "\n",
    "hor = 0\n",
    "ver = 0\n",
    "\n",
    "for move in movements:\n",
    "    direction, magnitude = move.split(' ')\n",
    "    if direction == 'forward':\n",
    "        hor += int(magnitude)\n",
    "    elif direction == 'up':\n",
    "        ver -= int(magnitude)\n",
    "    elif direction == 'down':\n",
    "        ver += int(magnitude)\n",
    "    else:\n",
    "        print('ERROR')\n",
    "        \n",
    "finalProduct = hor * ver\n",
    "print('Horizontal: ' + str(hor))\n",
    "print('Depth: ' + str(ver))\n",
    "print('Product: ' + str(finalProduct))\n",
    "\n",
    "# 1561344 - correct!"
   ]
  },
  {
   "cell_type": "code",
   "execution_count": 38,
   "id": "fbf7effe-4ad9-4192-85dd-d5705465891a",
   "metadata": {},
   "outputs": [
    {
     "name": "stdout",
     "output_type": "stream",
     "text": [
      "Horizontal: 2033\n",
      "Depth: 909225\n",
      "Product: 1848454425\n"
     ]
    }
   ],
   "source": [
    "# Day 2, Problem 2\n",
    "# movements - same input, new instructions\n",
    "\n",
    "hor_adj = 0\n",
    "ver_adj = 0\n",
    "aim = 0\n",
    "\n",
    "for move in movements: \n",
    "    direction, magnitude = move.split(' ')\n",
    "    if direction == 'forward':\n",
    "        hor_adj += int(magnitude)\n",
    "        ver_adj += int(magnitude) * aim\n",
    "    elif direction == 'up':\n",
    "        aim -= int(magnitude)\n",
    "    elif direction == 'down':\n",
    "        aim += int(magnitude)\n",
    "    else:\n",
    "        print('ERROR')\n",
    "        \n",
    "finalProduct = hor_adj * ver_adj\n",
    "print('Horizontal: ' + str(hor_adj))\n",
    "print('Depth: ' + str(ver_adj))\n",
    "print('Product: ' + str(finalProduct))\n",
    "\n",
    "# 1848454425 - correct!"
   ]
  },
  {
   "cell_type": "code",
   "execution_count": null,
   "id": "68931c1d-15ff-44e9-8618-370b159d8563",
   "metadata": {},
   "outputs": [],
   "source": []
  }
 ],
 "metadata": {
  "kernelspec": {
   "display_name": "Python 3",
   "language": "python",
   "name": "python3"
  },
  "language_info": {
   "codemirror_mode": {
    "name": "ipython",
    "version": 3
   },
   "file_extension": ".py",
   "mimetype": "text/x-python",
   "name": "python",
   "nbconvert_exporter": "python",
   "pygments_lexer": "ipython3",
   "version": "3.8.8"
  }
 },
 "nbformat": 4,
 "nbformat_minor": 5
}
